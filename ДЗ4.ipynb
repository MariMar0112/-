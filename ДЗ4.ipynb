{
 "cells": [
  {
   "cell_type": "code",
   "execution_count": 8,
   "id": "ded53085",
   "metadata": {},
   "outputs": [
    {
     "name": "stdout",
     "output_type": "stream",
     "text": [
      "9\n",
      "3.0\n"
     ]
    }
   ],
   "source": [
    "#Задача 1\n",
    "x = int(input())\n",
    "def sqr(x):\n",
    "    print(x**0.5)\n",
    "sqr(x)\n"
   ]
  },
  {
   "cell_type": "code",
   "execution_count": 2,
   "id": "b4e0d1cf",
   "metadata": {},
   "outputs": [
    {
     "name": "stdout",
     "output_type": "stream",
     "text": [
      "Введите имя и расширение файла: Моя диссертац.jpg\n",
      "Yes\n"
     ]
    }
   ],
   "source": [
    "#Задача 2\n",
    "file = input('Введите имя и расширение файла: ').split('.')\n",
    "def extensions(file):\n",
    "    extensions = ['png', 'jpg', 'jpeg', 'gif', 'svg']\n",
    "    fileExtension = file[-1]\n",
    "    if fileExtension in extensions:\n",
    "        print(\"Yes\")\n",
    "    else:\n",
    "        print(\"No\")\n",
    "extensions(file)"
   ]
  },
  {
   "cell_type": "code",
   "execution_count": 2,
   "id": "ec037176",
   "metadata": {},
   "outputs": [
    {
     "name": "stdout",
     "output_type": "stream",
     "text": [
      "{1: 10, 2: 20, 3: 30, 4: 40, 5: 50, 6: 60}\n"
     ]
    }
   ],
   "source": [
    "#Задача 3\n",
    "dict_a = {1:10, 2:20}\n",
    "dict_b = {3:30, 4:40}\n",
    "dict_c = {5:50, 6:60}\n",
    "dict = dict_a | dict_b | dict_c\n",
    "print(dict)"
   ]
  },
  {
   "cell_type": "code",
   "execution_count": null,
   "id": "bb8967da",
   "metadata": {},
   "outputs": [],
   "source": [
    "#Задача 4\n",
    "n = int(input())\n",
    "def sum(n):\n",
    "    s = 0\n",
    "    while n>0:\n",
    "        a = n%10\n",
    "        s += a\n",
    "        n //=10\n",
    "    print(s)\n",
    "sum(n)"
   ]
  },
  {
   "cell_type": "code",
   "execution_count": null,
   "id": "0c88fe3b",
   "metadata": {},
   "outputs": [],
   "source": [
    "#Задача 5\n",
    "numbers = [1,4,5]\n",
    "unik_numbers = set(numbers)\n",
    "print(unik_numbers,len(numbers)) #если количество значений совпадает, то все значения уникальны"
   ]
  },
  {
   "cell_type": "code",
   "execution_count": 12,
   "id": "1d0a0c79",
   "metadata": {},
   "outputs": [
    {
     "name": "stdout",
     "output_type": "stream",
     "text": [
      "1 я\n",
      "2 не\n",
      "3 в\n",
      "4 отпуск\n"
     ]
    }
   ],
   "source": [
    "#Задача 6(1)\n",
    "def print_list(my_list):\n",
    "    for i in range(len(my_list)):\n",
    "        print(i+1,my_list[i])\n",
    "    pass\n",
    "\n",
    "print_list([\"я\", \"не\", \"в\", \"отпуск\",])"
   ]
  },
  {
   "cell_type": "code",
   "execution_count": 21,
   "id": "aef80db5",
   "metadata": {},
   "outputs": [
    {
     "name": "stdout",
     "output_type": "stream",
     "text": [
      "key1 2\n",
      "key3 False\n",
      "Приветствие Hello\n"
     ]
    }
   ],
   "source": [
    "#Задача 6(2)\n",
    "\n",
    "def print_dict(my_dict):\n",
    "    for key, znachenie in my_dict.items():\n",
    "        print(key, znachenie)\n",
    "    pass\n",
    "\n",
    "print_dict({\"key1\": 2, \"key3\": False, \"Приветствие\": \"Hello\"})"
   ]
  },
  {
   "cell_type": "code",
   "execution_count": 34,
   "id": "eff74482",
   "metadata": {},
   "outputs": [
    {
     "ename": "TypeError",
     "evalue": "isinstance() arg 2 must be a type, a tuple of types, or a union",
     "output_type": "error",
     "traceback": [
      "\u001b[1;31m---------------------------------------------------------------------------\u001b[0m",
      "\u001b[1;31mTypeError\u001b[0m                                 Traceback (most recent call last)",
      "Cell \u001b[1;32mIn[34], line 11\u001b[0m\n\u001b[0;32m      7\u001b[0m         \u001b[38;5;28mlist\u001b[39m(mydict)\n\u001b[0;32m      9\u001b[0m     \u001b[38;5;28;01mpass\u001b[39;00m\n\u001b[1;32m---> 11\u001b[0m print_overlord(\u001b[38;5;28mdict\u001b[39m(key1\u001b[38;5;241m=\u001b[39m\u001b[38;5;241m1\u001b[39m,\n\u001b[0;32m     12\u001b[0m             key2\u001b[38;5;241m=\u001b[39m[\u001b[38;5;241m1\u001b[39m, \u001b[38;5;241m2\u001b[39m, \u001b[38;5;241m3\u001b[39m, \u001b[38;5;241m4\u001b[39m], \n\u001b[0;32m     13\u001b[0m             key3\u001b[38;5;241m=\u001b[39m\u001b[38;5;124m'\u001b[39m\u001b[38;5;124mHello\u001b[39m\u001b[38;5;124m'\u001b[39m, \n\u001b[0;32m     14\u001b[0m             key4\u001b[38;5;241m=\u001b[39m{\u001b[38;5;124m\"\u001b[39m\u001b[38;5;124mciao\u001b[39m\u001b[38;5;124m\"\u001b[39m:\u001b[38;5;124m\"\u001b[39m\u001b[38;5;124mMondo\u001b[39m\u001b[38;5;124m\"\u001b[39m, \u001b[38;5;124m\"\u001b[39m\u001b[38;5;124mПривет\u001b[39m\u001b[38;5;124m\"\u001b[39m: \u001b[38;5;124m\"\u001b[39m\u001b[38;5;124mО дивный мир\u001b[39m\u001b[38;5;124m\"\u001b[39m}))\n",
      "Cell \u001b[1;32mIn[34], line 6\u001b[0m, in \u001b[0;36mprint_overlord\u001b[1;34m(mydict)\u001b[0m\n\u001b[0;32m      4\u001b[0m \u001b[38;5;28;01mif\u001b[39;00m \u001b[38;5;28misinstance\u001b[39m(mydict, \u001b[38;5;28mdict\u001b[39m):\n\u001b[0;32m      5\u001b[0m     \u001b[38;5;28mdict\u001b[39m(mydict)\n\u001b[1;32m----> 6\u001b[0m \u001b[38;5;28;01mif\u001b[39;00m \u001b[38;5;28misinstance\u001b[39m(mydict, \u001b[38;5;28mlist\u001b[39m):\n\u001b[0;32m      7\u001b[0m     \u001b[38;5;28mlist\u001b[39m(mydict)\n\u001b[0;32m      9\u001b[0m \u001b[38;5;28;01mpass\u001b[39;00m\n",
      "\u001b[1;31mTypeError\u001b[0m: isinstance() arg 2 must be a type, a tuple of types, or a union"
     ]
    }
   ],
   "source": [
    "#Задача 6(3) j\n",
    "list = {\"я\", \"не\", \"в\", \"отпуск\"}\n",
    "def print_overlord(mydict):\n",
    "    if isinstance(mydict, dict):\n",
    "        dict(mydict)\n",
    "    if isinstance(mydict, list):\n",
    "        list(mydict)\n",
    "    \n",
    "    pass\n",
    "\n",
    "print_overlord(dict(key1=1,\n",
    "            key2=[1, 2, 3, 4], \n",
    "            key3='Hello', \n",
    "            key4={\"ciao\":\"Mondo\", \"Привет\": \"О дивный мир\"}))"
   ]
  },
  {
   "cell_type": "code",
   "execution_count": null,
   "id": "7dc843a0",
   "metadata": {},
   "outputs": [],
   "source": []
  }
 ],
 "metadata": {
  "kernelspec": {
   "display_name": "Python 3 (ipykernel)",
   "language": "python",
   "name": "python3"
  },
  "language_info": {
   "codemirror_mode": {
    "name": "ipython",
    "version": 3
   },
   "file_extension": ".py",
   "mimetype": "text/x-python",
   "name": "python",
   "nbconvert_exporter": "python",
   "pygments_lexer": "ipython3",
   "version": "3.11.5"
  }
 },
 "nbformat": 4,
 "nbformat_minor": 5
}
