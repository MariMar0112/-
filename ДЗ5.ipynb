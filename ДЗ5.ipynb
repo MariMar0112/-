{
 "cells": [
  {
   "cell_type": "code",
   "execution_count": 44,
   "id": "3146ddc0",
   "metadata": {},
   "outputs": [],
   "source": [
    "#Задание 1\n",
    "with open('Ученики.txt', 'r', encoding='utf8') as fileprint:\n",
    "    lines = fileprint.read().split('\\n')\n"
   ]
  },
  {
   "cell_type": "code",
   "execution_count": 43,
   "id": "1cf98f6e",
   "metadata": {},
   "outputs": [
    {
     "name": "stdout",
     "output_type": "stream",
     "text": [
      "Лекций: 2\n",
      "Практических: 3\n",
      "Лабораторных: 2\n"
     ]
    }
   ],
   "source": [
    "#Задание 2 нет\n",
    "with open(\"Предметы.txt\", \"r\", encoding = \"utf-8\") as file:\n",
    "    liness = [\n",
    "        line.strip(\"\\n \\t\")\n",
    "        for line in file.readlines()\n",
    "    ]\n",
    "liness = [\n",
    "    line \n",
    "    for line in liness \n",
    "        if line\n",
    "]\n",
    "liness\n",
    "lec, lab, pract = 0, 0, 0\n",
    "for line in liness:\n",
    "    if line.count('лек') != 0:\n",
    "        lec += 1\n",
    "    elif line.count('лаб') != 0:\n",
    "        lab += 1\n",
    "    elif line.count('прак') != 0:\n",
    "        pract += 1 \n",
    "print('Лекций:', lec)\n",
    "print('Практических:', pract)\n",
    "print('Лабораторных:', lab)"
   ]
  },
  {
   "cell_type": "code",
   "execution_count": null,
   "id": "b135d5b1",
   "metadata": {},
   "outputs": [],
   "source": [
    "#Задание 3\n",
    "t.me/DzPython3_bot"
   ]
  },
  {
   "cell_type": "code",
   "execution_count": 23,
   "id": "599f98b3",
   "metadata": {},
   "outputs": [
    {
     "name": "stdout",
     "output_type": "stream",
     "text": [
      "['.anaconda', '.bash_history', '.conda', '.condarc', '.continuum', '.ipynb_checkpoints', '.ipython', '.jupyter', '.matplotlib', '.spyder-py3', '.vscode', '3D Objects', 'anaconda3', 'AppData', 'Application Data', 'Contacts', 'Cookies', 'Desktop', 'Documents', 'Downloads', 'Favorites', 'file.txt', 'IntelGraphicsProfiles', 'Jedi', 'Links', 'Local Settings', 'Music', 'NetHood', 'NTUSER.DAT', 'ntuser.dat.LOG1', 'ntuser.dat.LOG2', 'NTUSER.DAT{53b39e88-18c4-11ea-a811-000d3aa4692b}.TM.blf', 'NTUSER.DAT{53b39e88-18c4-11ea-a811-000d3aa4692b}.TMContainer00000000000000000001.regtrans-ms', 'NTUSER.DAT{53b39e88-18c4-11ea-a811-000d3aa4692b}.TMContainer00000000000000000002.regtrans-ms', 'ntuser.ini', 'OneDrive', 'OneDrive - ФГБОУ ВО Российский химико-технологический университет имени Д.И. Менделеева', 'Pictures', 'PrintHood', 'Recent', 'Saved Games', 'Searches', 'SendTo', 'Tracing', 'Untitled.ipynb', 'Untitled1.ipynb', 'Untitled2.ipynb', 'Videos', 'YandexDisk', 'главное меню', 'ДЗ4.ipynb', 'ДЗ4.py', 'ДЗ5.ipynb', 'Мои документы', 'Предметы.txt', 'Ученики.txt', 'Шаблоны']\n"
     ]
    }
   ],
   "source": [
    "#Задание 4\n",
    "import os\n",
    "razdel = '.'\n",
    "print(os.listdir(razdel))"
   ]
  },
  {
   "cell_type": "code",
   "execution_count": 32,
   "id": "88857791",
   "metadata": {},
   "outputs": [
    {
     "name": "stdout",
     "output_type": "stream",
     "text": [
      "И храброславленный\n"
     ]
    }
   ],
   "source": [
    "#Задание 5\n",
    "with open('Текст.txt', 'r', encoding='utf8') as file:\n",
    "        text = file.read()\n",
    "counter = collections.Counter(words)\n",
    "most_common, occurrences = counter.most_common()[0]\n",
    " \n",
    "longest = max(words, key=len)\n",
    " \n",
    "print(most_common, longest)"
   ]
  },
  {
   "cell_type": "code",
   "execution_count": 30,
   "id": "ef12d37a",
   "metadata": {},
   "outputs": [],
   "source": []
  },
  {
   "cell_type": "code",
   "execution_count": null,
   "id": "039785cb",
   "metadata": {},
   "outputs": [],
   "source": []
  }
 ],
 "metadata": {
  "kernelspec": {
   "display_name": "Python 3 (ipykernel)",
   "language": "python",
   "name": "python3"
  },
  "language_info": {
   "codemirror_mode": {
    "name": "ipython",
    "version": 3
   },
   "file_extension": ".py",
   "mimetype": "text/x-python",
   "name": "python",
   "nbconvert_exporter": "python",
   "pygments_lexer": "ipython3",
   "version": "3.11.5"
  }
 },
 "nbformat": 4,
 "nbformat_minor": 5
}
