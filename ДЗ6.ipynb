{
 "cells": [
  {
   "cell_type": "code",
   "execution_count": 42,
   "id": "53d1c39b",
   "metadata": {},
   "outputs": [],
   "source": [
    "#Задание 1\n",
    "class Student:\n",
    "    \n",
    "    def __init__(self, name = 'Ivan', age = 18, groupNumber = '10A'):\n",
    "        'name, age, groupNumber'\n",
    "        self.name = name\n",
    "        self.age = age\n",
    "        self.groupNumber = groupNumber\n",
    "        \n",
    "    def getName(self):\n",
    "        return self.name\n",
    "    \n",
    "    def getAge(self):\n",
    "        return self.age\n",
    "    \n",
    "    def getGroupNumber(self):\n",
    "        return self.groupNumber\n",
    "    \n",
    "    def setNameAge(self, newname, newage):\n",
    "        self.name = newname\n",
    "        self.age = newage\n",
    "        \n",
    "    def setGroupNumber(self, newgroupNumber):\n",
    "        self.groupNumber = newgroupNumber\n",
    "        \n",
    "    def __str__(self):\n",
    "        return \"%s %s %s\" % (self.name, self.age, self.groupNumber)"
   ]
  },
  {
   "cell_type": "code",
   "execution_count": 43,
   "id": "cec86b20",
   "metadata": {},
   "outputs": [
    {
     "name": "stdout",
     "output_type": "stream",
     "text": [
      "Ann 17 10A\n"
     ]
    }
   ],
   "source": [
    "student1 = Student()\n",
    "student1.setNameAge('Ann', 17)\n",
    "print(student1)"
   ]
  },
  {
   "cell_type": "code",
   "execution_count": 44,
   "id": "a07dc697",
   "metadata": {},
   "outputs": [
    {
     "name": "stdout",
     "output_type": "stream",
     "text": [
      "Masha, 18, 4\n"
     ]
    }
   ],
   "source": [
    "student2 = 'Masha, 18, 4'\n",
    "print(student2)"
   ]
  },
  {
   "cell_type": "code",
   "execution_count": 47,
   "id": "dc7d80d3",
   "metadata": {},
   "outputs": [
    {
     "name": "stdout",
     "output_type": "stream",
     "text": [
      "Ivan 18 13D\n"
     ]
    }
   ],
   "source": [
    "student3 = Student()\n",
    "student3.setGroupNumber('13D')\n",
    "print(student3)"
   ]
  },
  {
   "cell_type": "code",
   "execution_count": 48,
   "id": "ae2f3135",
   "metadata": {},
   "outputs": [
    {
     "name": "stdout",
     "output_type": "stream",
     "text": [
      "Ivan 18 10A\n"
     ]
    }
   ],
   "source": [
    "student4 = Student()\n",
    "print(student4)"
   ]
  },
  {
   "cell_type": "code",
   "execution_count": 50,
   "id": "efce399d",
   "metadata": {},
   "outputs": [
    {
     "name": "stdout",
     "output_type": "stream",
     "text": [
      "Paul 18 12H\n"
     ]
    }
   ],
   "source": [
    "student5 = Student()\n",
    "student5.setNameAge('Paul',18)\n",
    "student5.setGroupNumber('12H')\n",
    "print(student5)"
   ]
  },
  {
   "cell_type": "code",
   "execution_count": 52,
   "id": "5f39db05",
   "metadata": {},
   "outputs": [],
   "source": [
    "#Задание 2\n",
    "class Car:\n",
    "    def __init__(self, color='', type='', year=''):\n",
    "        self.color = color\n",
    "        self.type = type\n",
    "        self.year = year\n",
    "    def beginCar(self):\n",
    "        return 'Автомобиль заведен'\n",
    "    def endCar(self):\n",
    "        return 'Автомобиль заглушен'\n",
    "    def setYear(self, year):\n",
    "        self.year = year\n",
    "    def setType(self, type):\n",
    "        self.type = type\n",
    "    def setColor(self, color):\n",
    "        self.color = color\n",
    "    def __str__(self):\n",
    "        return '%s %s %s' % (self.color, self.type, self.year)\n",
    "    \n",
    "    "
   ]
  },
  {
   "cell_type": "code",
   "execution_count": 53,
   "id": "93ec1983",
   "metadata": {},
   "outputs": [
    {
     "data": {
      "text/plain": [
       "'Автомобиль заведен'"
      ]
     },
     "execution_count": 53,
     "metadata": {},
     "output_type": "execute_result"
    }
   ],
   "source": [
    "c1 = Car()\n",
    "c1.beginCar()"
   ]
  },
  {
   "cell_type": "code",
   "execution_count": 54,
   "id": "33b8ed2d",
   "metadata": {},
   "outputs": [
    {
     "data": {
      "text/plain": [
       "'Автомобиль заглушен'"
      ]
     },
     "execution_count": 54,
     "metadata": {},
     "output_type": "execute_result"
    }
   ],
   "source": [
    "c2 = Car()\n",
    "c2.endCar()"
   ]
  },
  {
   "cell_type": "code",
   "execution_count": 58,
   "id": "9d2ee6bc",
   "metadata": {},
   "outputs": [
    {
     "name": "stdout",
     "output_type": "stream",
     "text": [
      "Blue BMW 2022\n"
     ]
    }
   ],
   "source": [
    "c3 = Car()\n",
    "c3.setYear(2022)\n",
    "c3.setType('BMW')\n",
    "c3.setColor('Blue')\n",
    "print(c3)"
   ]
  },
  {
   "cell_type": "code",
   "execution_count": 63,
   "id": "ffaae009",
   "metadata": {},
   "outputs": [],
   "source": [
    "#Задание 3\n",
    "class Nutrition:\n",
    "    def __init__(self, big_elem = '',micro_elem = ''):\n",
    "        self.big_elem = big_elem\n",
    "        self.micro_elem = micro_elem\n",
    "    def main_elem(self, main):\n",
    "        return Nutrition(self.big_elem, self.micro_elem)\n"
   ]
  },
  {
   "cell_type": "code",
   "execution_count": 67,
   "id": "9e48a764",
   "metadata": {},
   "outputs": [
    {
     "name": "stdout",
     "output_type": "stream",
     "text": [
      "19\n"
     ]
    }
   ],
   "source": [
    "apples = (4, 6)\n",
    "bananas = (7, 2)\n",
    "print(sum(apples+bananas))"
   ]
  },
  {
   "cell_type": "code",
   "execution_count": null,
   "id": "53c77914",
   "metadata": {},
   "outputs": [],
   "source": []
  }
 ],
 "metadata": {
  "kernelspec": {
   "display_name": "Python 3 (ipykernel)",
   "language": "python",
   "name": "python3"
  },
  "language_info": {
   "codemirror_mode": {
    "name": "ipython",
    "version": 3
   },
   "file_extension": ".py",
   "mimetype": "text/x-python",
   "name": "python",
   "nbconvert_exporter": "python",
   "pygments_lexer": "ipython3",
   "version": "3.11.5"
  }
 },
 "nbformat": 4,
 "nbformat_minor": 5
}
