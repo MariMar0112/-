{
  "cells": [
    {
      "cell_type": "code",
      "execution_count": 16,
      "metadata": {
        "trusted": true
      },
      "outputs": [
        {
          "name": "stdout",
          "output_type": "stream",
          "text": [
            "0:2:46:40\n"
          ]
        }
      ],
      "source": [
        "#Задание 1,урок 2 (Вариант 1)\n",
        "seconds = 10000\n",
        "day = 86400\n",
        "hour = 3600\n",
        "minute = 60\n",
        "days = 10000 // 86400 #24 дня=86400с\n",
        "hours = (seconds % day) // 3600 #1ч=3600с\n",
        "minutes = ((seconds % day)) % hour // 60 #1мин=60с\n",
        "seconds = (((seconds % day)) % hour) % minute \n",
        "print(days, hours, minutes, seconds, sep=':')"
      ]
    },
    {
      "cell_type": "code",
      "execution_count": 28,
      "metadata": {
        "trusted": true
      },
      "outputs": [
        {
          "name": "stdout",
          "output_type": "stream",
          "text": [
            "0 : 2 : 46 : 40\n"
          ]
        }
      ],
      "source": [
        "#Задание 1,урок 2 (Вариант 2)\n",
        "seconds=10000\n",
        "days = seconds // 86400\n",
        "hours = (seconds % 86400) // 3600\n",
        "minutes = ((seconds % 86400) % 3600) // 60\n",
        "seconds = (((seconds % 86400) % 3600)) % 60\n",
        "print(days, ':', hours, ':', minutes, ':', seconds)"
      ]
    },
    {
      "cell_type": "code",
      "execution_count": null,
      "metadata": {
        "trusted": true
      },
      "outputs": [],
      "source": [
        "#Задание 2,урок 2\n",
        "a = int(input('Введите первое число:'))\n",
        "c = input('Введите знак')\n",
        "b = int(input('Введите второе число'))\n",
        "if c == \"+\":\n",
        "    print(a + b)\n",
        "elif c == \"-\":\n",
        "    print(a - b)\n",
        "elif c == \"*\":\n",
        "    print(a * b)\n",
        "elif c == \"/\":\n",
        "    if b == 0:\n",
        "        print(\"Ошибка: деление на ноль!\")\n",
        "else:\n",
        "    print(\"Ошибка: неверный оператор!\")"
      ]
    },
    {
      "cell_type": "code",
      "execution_count": null,
      "metadata": {},
      "outputs": [],
      "source": [
        "#Задание 3,урок 2(Вариант 1)\n",
        "str1 = input()\n",
        "str2 = input()\n",
        "print(str1+'$'+str2)"
      ]
    },
    {
      "cell_type": "code",
      "execution_count": 1,
      "metadata": {
        "trusted": true
      },
      "outputs": [
        {
          "name": "stdout",
          "output_type": "stream",
          "text": [
            "<PyodideFuture pending cb=[WebLoop._decrement_in_progress()]>$<PyodideFuture pending cb=[WebLoop._decrement_in_progress()]>\n"
          ]
        },
        {
          "name": "stdout",
          "output_type": "stream",
          "text": [
            " 4\n",
            " 5\n"
          ]
        }
      ],
      "source": [
        "#Задание 3,урок 2(Вариант 2)\n",
        "str1 = input()\n",
        "str2 = input()\n",
        "print(str1, str2, sep='$')"
      ]
    },
    {
      "cell_type": "code",
      "execution_count": 5,
      "metadata": {
        "trusted": true
      },
      "outputs": [
        {
          "ename": "<class 'TypeError'>",
          "evalue": "int() argument must be a string, a bytes-like object or a real number, not 'PyodideFuture'",
          "output_type": "error",
          "traceback": [
            "\u001b[0;31m---------------------------------------------------------------------------\u001b[0m",
            "\u001b[0;31mTypeError\u001b[0m                                 Traceback (most recent call last)",
            "Cell \u001b[0;32mIn[5], line 3\u001b[0m\n\u001b[1;32m      1\u001b[0m \u001b[38;5;66;03m#Задание 4,урок 2\u001b[39;00m\n\u001b[1;32m      2\u001b[0m name \u001b[38;5;241m=\u001b[39m \u001b[38;5;28minput\u001b[39m(\u001b[38;5;124m'\u001b[39m\u001b[38;5;124mВведите имя:\u001b[39m\u001b[38;5;124m'\u001b[39m)\n\u001b[0;32m----> 3\u001b[0m age \u001b[38;5;241m=\u001b[39m \u001b[38;5;28;43mint\u001b[39;49m\u001b[43m(\u001b[49m\u001b[38;5;28;43minput\u001b[39;49m\u001b[43m(\u001b[49m\u001b[38;5;124;43m'\u001b[39;49m\u001b[38;5;124;43mВведите возраст:\u001b[39;49m\u001b[38;5;124;43m'\u001b[39;49m\u001b[43m)\u001b[49m\u001b[43m)\u001b[49m\n\u001b[1;32m      4\u001b[0m \u001b[38;5;28mprint\u001b[39m(\u001b[38;5;124m'\u001b[39m\u001b[38;5;124mС Днем рождения!\u001b[39m\u001b[38;5;124m'\u001b[39m\u001b[38;5;241m*\u001b[39mage \u001b[38;5;241m+\u001b[39m name)\n",
            "\u001b[0;31mTypeError\u001b[0m: int() argument must be a string, a bytes-like object or a real number, not 'PyodideFuture'"
          ]
        },
        {
          "name": "stdout",
          "output_type": "stream",
          "text": [
            "Введите возраст: 3\n",
            "Введите имя: t\n"
          ]
        }
      ],
      "source": [
        "#Задание 4,урок 2\n",
        "name = input('Введите имя:')\n",
        "age = int(input('Введите возраст:'))\n",
        "print('С Днем рождения!'*age + name)"
      ]
    },
    {
      "cell_type": "code",
      "execution_count": 9,
      "metadata": {
        "trusted": true
      },
      "outputs": [
        {
          "name": "stdout",
          "output_type": "stream",
          "text": [
            "январь\n"
          ]
        }
      ],
      "source": [
        "#Задание 1, урок 3\n",
        "months = ['такого месяца не существует', 'январь', 'февраль', 'март', 'апрель', 'май', 'июнь', 'июль', 'август', 'сентябрь', 'октябрь', 'ноябрь', 'декабрь']\n",
        "month = months[1]\n",
        "print(month)"
      ]
    },
    {
      "cell_type": "code",
      "execution_count": 11,
      "metadata": {
        "trusted": true
      },
      "outputs": [
        {
          "name": "stdout",
          "output_type": "stream",
          "text": [
            "4\n"
          ]
        }
      ],
      "source": [
        "#Задание 2, урок 3\n",
        "import math\n",
        "a = 600\n",
        "b = 1012\n",
        "print(math.gcd(a, b))"
      ]
    },
    {
      "cell_type": "code",
      "execution_count": 17,
      "metadata": {
        "trusted": true
      },
      "outputs": [
        {
          "name": "stdout",
          "output_type": "stream",
          "text": [
            "yes\n"
          ]
        }
      ],
      "source": [
        "#Задание 3, урок 3\n",
        "extensions = ['png', 'jpg', 'jpeg', 'gif', 'svg']\n",
        "file = 'Моя диссертац.gif' \n",
        "if file.endswith('.gif'):\n",
        "    print('yes')\n",
        "else:\n",
        "    print('no')"
      ]
    },
    {
      "cell_type": "code",
      "execution_count": 46,
      "metadata": {
        "trusted": true
      },
      "outputs": [
        {
          "name": "stdout",
          "output_type": "stream",
          "text": [
            "Год не високосный\n"
          ]
        }
      ],
      "source": [
        "#Задание 4, урок 3\n",
        "year = 2021\n",
        "\n",
        "if (year%400 == 0 and year%100!= 0) or year%4==0 :\n",
        "    print('Год високосный')\n",
        "else:\n",
        "    print('Год не високосный')\n"
      ]
    }
  ],
  "metadata": {
    "kernelspec": {
      "display_name": "Python (Pyodide)",
      "language": "python",
      "name": "python"
    },
    "language_info": {
      "codemirror_mode": {
        "name": "python",
        "version": 3
      },
      "file_extension": ".py",
      "mimetype": "text/x-python",
      "name": "python",
      "nbconvert_exporter": "python",
      "pygments_lexer": "ipython3",
      "version": "3.8"
    }
  },
  "nbformat": 4,
  "nbformat_minor": 4
}
